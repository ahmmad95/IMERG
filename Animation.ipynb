{
 "cells": [
  {
   "cell_type": "code",
   "execution_count": 1,
   "id": "2598672f",
   "metadata": {},
   "outputs": [],
   "source": [
    "import PIL.Image\n",
    "import numpy as np\n",
    "import os"
   ]
  },
  {
   "cell_type": "code",
   "execution_count": 2,
   "id": "18a5d28f",
   "metadata": {},
   "outputs": [],
   "source": [
    "input_dir='./Image'\n",
    "\n",
    "image_collection = [image for image in os.listdir(input_dir) if image.endswith('.jpg')]\n",
    "\n",
    "len_file=len(image_collection)"
   ]
  },
  {
   "cell_type": "code",
   "execution_count": 3,
   "id": "40c68694",
   "metadata": {
    "collapsed": true
   },
   "outputs": [
    {
     "data": {
      "text/plain": [
       "['2020-05-16 00-00.jpg',\n",
       " '2020-05-16 00-30.jpg',\n",
       " '2020-05-16 01-00.jpg',\n",
       " '2020-05-16 01-30.jpg',\n",
       " '2020-05-16 02-00.jpg',\n",
       " '2020-05-16 02-30.jpg',\n",
       " '2020-05-16 03-00.jpg',\n",
       " '2020-05-16 03-30.jpg',\n",
       " '2020-05-16 04-00.jpg',\n",
       " '2020-05-16 04-30.jpg',\n",
       " '2020-05-16 05-00.jpg',\n",
       " '2020-05-16 05-30.jpg',\n",
       " '2020-05-16 06-00.jpg',\n",
       " '2020-05-16 06-30.jpg',\n",
       " '2020-05-16 07-00.jpg',\n",
       " '2020-05-16 07-30.jpg',\n",
       " '2020-05-16 08-00.jpg',\n",
       " '2020-05-16 08-30.jpg',\n",
       " '2020-05-16 09-00.jpg',\n",
       " '2020-05-16 09-30.jpg',\n",
       " '2020-05-16 10-00.jpg',\n",
       " '2020-05-16 10-30.jpg',\n",
       " '2020-05-16 11-00.jpg',\n",
       " '2020-05-16 11-30.jpg',\n",
       " '2020-05-16 12-00.jpg',\n",
       " '2020-05-16 12-30.jpg',\n",
       " '2020-05-16 13-00.jpg',\n",
       " '2020-05-16 13-30.jpg',\n",
       " '2020-05-16 14-00.jpg',\n",
       " '2020-05-16 14-30.jpg',\n",
       " '2020-05-16 15-00.jpg',\n",
       " '2020-05-16 15-30.jpg',\n",
       " '2020-05-16 16-00.jpg',\n",
       " '2020-05-16 16-30.jpg',\n",
       " '2020-05-16 17-00.jpg',\n",
       " '2020-05-16 17-30.jpg',\n",
       " '2020-05-16 18-00.jpg',\n",
       " '2020-05-16 18-30.jpg',\n",
       " '2020-05-16 19-00.jpg',\n",
       " '2020-05-16 19-30.jpg',\n",
       " '2020-05-16 20-00.jpg',\n",
       " '2020-05-16 20-30.jpg',\n",
       " '2020-05-16 21-00.jpg',\n",
       " '2020-05-16 21-30.jpg',\n",
       " '2020-05-16 22-00.jpg',\n",
       " '2020-05-16 22-30.jpg',\n",
       " '2020-05-16 23-00.jpg',\n",
       " '2020-05-16 23-30.jpg']"
      ]
     },
     "execution_count": 3,
     "metadata": {},
     "output_type": "execute_result"
    }
   ],
   "source": [
    "image_collection"
   ]
  },
  {
   "cell_type": "code",
   "execution_count": 4,
   "id": "f7804ecb",
   "metadata": {},
   "outputs": [],
   "source": [
    "image_frames = []\n",
    "\n",
    "for image in image_collection:\n",
    "    path=os.path.join(input_dir,image)\n",
    "    new_frame = PIL.Image.open(path)\n",
    "    image_frames.append(new_frame)\n",
    "    \n",
    "image_frames[0].save('Animation.gif', format = 'GIF', \n",
    "            append_images = image_frames[1: ], \n",
    "            save_all = True, duration = 200, \n",
    "            loop = 0)"
   ]
  },
  {
   "cell_type": "code",
   "execution_count": null,
   "id": "b6eb750c",
   "metadata": {},
   "outputs": [],
   "source": []
  }
 ],
 "metadata": {
  "kernelspec": {
   "display_name": "Python 3 (ipykernel)",
   "language": "python",
   "name": "python3"
  },
  "language_info": {
   "codemirror_mode": {
    "name": "ipython",
    "version": 3
   },
   "file_extension": ".py",
   "mimetype": "text/x-python",
   "name": "python",
   "nbconvert_exporter": "python",
   "pygments_lexer": "ipython3",
   "version": "3.7.10"
  }
 },
 "nbformat": 4,
 "nbformat_minor": 5
}

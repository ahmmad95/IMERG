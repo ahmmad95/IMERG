{
 "cells": [
  {
   "cell_type": "markdown",
   "id": "d8c2f10a",
   "metadata": {},
   "source": [
    "# Data\n",
    "\n",
    "####  Data: GPM IMERG Final Precipitation L3 Half Hourly 0.1 degree x 0.1 degree V06\n",
    "####  Resolution: 30 minutes & 10 km\n",
    "#### Period: 16 May 2020\n",
    "#### Website: https://disc.gsfc.nasa.gov/datasets/GPM_3IMERGHH_06/summary?keywords=%22IMERG%20final%22"
   ]
  },
  {
   "cell_type": "code",
   "execution_count": 16,
   "id": "162a506a",
   "metadata": {},
   "outputs": [],
   "source": [
    "# import the required library\n",
    "import os\n",
    "import requests"
   ]
  },
  {
   "cell_type": "code",
   "execution_count": null,
   "id": "db27e367",
   "metadata": {},
   "outputs": [],
   "source": [
    "in_folder=os.getcwd() #input folder\n",
    "out_folder='./Data' # output folder\n",
    "\n",
    "if not os.path.exists(out_folder):\n",
    "    os.makedirs(out_folder)\n",
    "\n",
    "url_list='subset_GPM_3IMERGHH_06_20230306_100457_.txt' # url list downloaded from NASA GES-DISC website\n",
    "\n",
    "path=os.path.join(in_folder, url_list)\n",
    "\n",
    "with open(path,'r') as f:\n",
    "    list_download=[url.rstrip('\\n') for url in  f.readlines()] # read the url list\n",
    "\n",
    "len_files = len(list_download)\n",
    "print(f'Number of files to download: {len_files}')"
   ]
  },
  {
   "cell_type": "code",
   "execution_count": null,
   "id": "2d3a0d32",
   "metadata": {},
   "outputs": [],
   "source": [
    "# Download GPM IMERG Final Precipitation L3 Half Hourly 0.1 degree x 0.1 degree V06\n",
    "for i in range(len_files):\n",
    "    filename = list_download[i].split('/')[-1].split('&')[-4].split('=')[1] # extract the filename from url\n",
    "    output = os.path.join(out_folder, filename)\n",
    "\n",
    "    if  os.path.exists(output) == True:\n",
    "        pass\n",
    "    else:\n",
    "        result = requests.get(list_download[i])\n",
    "        try:\n",
    "            result.raise_for_status()\n",
    "            f = open(output,'wb')\n",
    "            f.write(result.content)\n",
    "            f.close()\n",
    "            print('contents of URL written to '+filename)\n",
    "        except:\n",
    "            print('requests.get() returned an error code '+str(result.status_code))\n",
    "        "
   ]
  }
 ],
 "metadata": {
  "kernelspec": {
   "display_name": "Python 3 (ipykernel)",
   "language": "python",
   "name": "python3"
  },
  "language_info": {
   "codemirror_mode": {
    "name": "ipython",
    "version": 3
   },
   "file_extension": ".py",
   "mimetype": "text/x-python",
   "name": "python",
   "nbconvert_exporter": "python",
   "pygments_lexer": "ipython3",
   "version": "3.7.10"
  }
 },
 "nbformat": 4,
 "nbformat_minor": 5
}
